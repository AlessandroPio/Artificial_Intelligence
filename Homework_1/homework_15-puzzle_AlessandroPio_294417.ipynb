{
 "cells": [
  {
   "cell_type": "markdown",
   "source": [
    "# 15-Puzzle with A* Algorithm, BFS and Heuristics\n",
    "\n",
    "This Python code implements a solver for the 8-puzzle problem using the A* search algorithm with different heuristic functions. It consists of several classes to represent the puzzle, the game, heuristics, and the agent.\n",
    "\n",
    "## State Class\n",
    "\n",
    "The `State` class represents a state of the 8-puzzle. It includes:\n",
    "- `puzzle`: a 2D list representing the current puzzle configuration.\n",
    "- `parent`: the parent state from which this state was reached.\n",
    "- `action`: the action that led from the parent state to this state.\n",
    "- `cost`: the cost (typically number of steps) to reach this state.\n",
    "\n",
    "## Game Class\n",
    "\n",
    "The `Game` class manages the 8-puzzle itself. It provides methods to:\n",
    "- Check if a given state is the goal state.\n",
    "- Find possible actions (e.g., 'up', 'down', 'left', 'right') for a given state.\n",
    "- Generate the next state based on an action.\n",
    "- Define the cost associated with taking an action from a state.\n",
    "- Find the position of the blank (empty) tile in the puzzle.\n",
    "\n",
    "## Heuristics Class\n",
    "\n",
    "The `Heuristics` class contains two heuristic functions:\n",
    "- `manhattan_distance`: Calculates the Manhattan distance heuristic for a given state.\n",
    "    #####\n",
    "    $\\sum_{i=1}^{N} |v1[i] - v2[i]|$\n",
    "\n",
    "    Where:\n",
    "\n",
    "    - (`N`) is the upper limit of the summation, i.e., the number of elements you want to sum.\n",
    "    - (`v1[i]`) represents the \\(i\\)-th element of vector `v1`.\n",
    "    - (`v2[i]`) represents the \\(i\\)-th element of vector `v2`.\n",
    "    #####\n",
    "- `misplaced_tiles`: Calculates the number of misplaced tiles heuristic for a given state.\n",
    "    #####\n",
    "    $h_{\\text{misplaced}}(s) = \\sum_{i=1}^{N} \\sum_{j=1}^{N}\n",
    "    \\begin{cases}\n",
    "    1, & \\text{if the tile at position }(i, j)\\text{ is misplaced} \\\\\n",
    "    0, & \\text{otherwise}\n",
    "    \\end{cases}$\n",
    "\n",
    "    Where:\n",
    "\n",
    "    - (`misplaced(s)`) represents the number of misplaced tiles in the state \\(s\\).\n",
    "    - (`N`) is the dimension of the puzzle (e.g., 8 for an 8-Puzzle).\n",
    "    - The nested summations iterate over each row (`i`) and column (`j`) of the puzzle.\n",
    "    - Last expression checks if the tile at position (`(i, j)`) is misplaced, and it adds 1 to the count if it is, or 0 if it is not.\n",
    "\n",
    "## Agent Class\n",
    "\n",
    "The `Agent` class is responsible for solving the 15-puzzle using different algorithms and heuristic functions. It is initialized with a game and a chosen heuristic function.\n",
    "The `solve_BFS` method applies the Breadth-First Search (BFS) algorithm to find a solution, while the `solve_Astar_manhattan` method applies the A* algorithm with the Manhattan distance heuristic to find a solution. Both methods return the solution sequence as a list of states."
   ],
   "metadata": {
    "collapsed": false,
    "pycharm": {
     "name": "#%% md\n"
    }
   }
  },
  {
   "cell_type": "code",
   "execution_count": 34,
   "outputs": [],
   "source": [
    "from collections import deque\n",
    "import heapq\n",
    "import random\n",
    "\n",
    "class State:\n",
    "    def __init__(self, puzzle, parent=None, action=None, cost=0):\n",
    "        self.puzzle = puzzle\n",
    "        self.parent = parent\n",
    "        self.action = action\n",
    "        self.cost = cost\n",
    "        self.manhattan = Heuristics.manhattan_distance(self)\n",
    "\n",
    "    def __lt__(self, other):\n",
    "        return (self.cost + self.manhattan) < (other.cost + other.manhattan)\n",
    "\n",
    "class Game:\n",
    "    def is_goal(self, state):\n",
    "        goal_state = [[1, 2, 3, 4], [5, 6, 7, 8], [9, 10, 11, 12], [13, 14, 15, 0]]\n",
    "        return state.puzzle == goal_state\n",
    "\n",
    "    def get_possible_actions(self, state):\n",
    "        actions = []\n",
    "        blank_x, blank_y = self.find_blank(state.puzzle)\n",
    "        if blank_x > 0:\n",
    "            actions.append(\"down\")\n",
    "        if blank_x < 3:\n",
    "            actions.append(\"up\")\n",
    "        if blank_y > 0:\n",
    "            actions.append(\"right\")\n",
    "        if blank_y < 3:\n",
    "            actions.append(\"left\")\n",
    "        return actions\n",
    "\n",
    "    def get_next_state(self, state, action):\n",
    "        blank_x, blank_y = self.find_blank(state.puzzle)\n",
    "        new_puzzle = [list(row) for row in state.puzzle]\n",
    "        if action == \"up\":\n",
    "            new_puzzle[blank_x][blank_y], new_puzzle[blank_x + 1][blank_y] = new_puzzle[blank_x + 1][blank_y], new_puzzle[blank_x][blank_y]\n",
    "        elif action == \"down\":\n",
    "            new_puzzle[blank_x][blank_y], new_puzzle[blank_x - 1][blank_y] = new_puzzle[blank_x - 1][blank_y], new_puzzle[blank_x][blank_y]\n",
    "        elif action == \"left\":\n",
    "            new_puzzle[blank_x][blank_y], new_puzzle[blank_x][blank_y + 1] = new_puzzle[blank_x][blank_y + 1], new_puzzle[blank_x][blank_y]\n",
    "        elif action == \"right\":\n",
    "            new_puzzle[blank_x][blank_y], new_puzzle[blank_x][blank_y - 1] = new_puzzle[blank_x][blank_y - 1], new_puzzle[blank_x][blank_y]\n",
    "        return State(new_puzzle, state, action, state.cost + 1)\n",
    "\n",
    "    def find_blank(self, puzzle):\n",
    "        for i in range(4):\n",
    "            for j in range(4):\n",
    "                if puzzle[i][j] == 0:\n",
    "                    return i, j\n",
    "\n",
    "class Heuristics:\n",
    "    @staticmethod\n",
    "    def manhattan_distance(state):\n",
    "        total_dist = 0\n",
    "        for i in range(4):\n",
    "            for j in range(4):\n",
    "                if state.puzzle[i][j] != 0:\n",
    "                    target_x, target_y = divmod(state.puzzle[i][j] - 1, 4)\n",
    "                    total_dist += abs(i - target_x) + abs(j - target_y)\n",
    "        return total_dist\n",
    "\n",
    "    @staticmethod\n",
    "    def misplaced_tiles(state):\n",
    "        count = 0\n",
    "        for i in range(4):\n",
    "            for j in range(4):\n",
    "                if state.puzzle[i][j] != goal_state[i][j]:\n",
    "                    count += 1\n",
    "        return count\n",
    "\n",
    "class Agent:\n",
    "    def __init__(self, game):\n",
    "        self.game = game\n",
    "\n",
    "    def solve_BFS(self, initial_state):\n",
    "        # 1: Goal reached 2: No possible Actions 3: No solution\n",
    "        queue = deque([initial_state])\n",
    "        visited_states = set()\n",
    "        level = 1\n",
    "        nodes_explored = 0\n",
    "        BFS_data = []\n",
    "\n",
    "        while queue:\n",
    "            level_size = len(queue)\n",
    "            BFS_data.append([level, level_size])  # Stampa il livello corrente\n",
    "            #print(\"Number of Nodes in this Level:\", level_size)  # Stampa il numero di nodi in questo livello\n",
    "\n",
    "            for _ in range(level_size):\n",
    "                current_state = queue.popleft()\n",
    "                current_state_tuple = tuple(map(tuple, current_state.puzzle))\n",
    "\n",
    "                if current_state_tuple in visited_states:\n",
    "                    continue  # Stato già visitato, salta questo stato\n",
    "\n",
    "                visited_states.add(current_state_tuple)\n",
    "                nodes_explored += 1\n",
    "\n",
    "                if self.game.is_goal(current_state):\n",
    "                    return BFS_data # Goal raggiunto, termina la ricerca\n",
    "\n",
    "                possible_actions = self.game.get_possible_actions(current_state)\n",
    "                if not possible_actions:\n",
    "                    return  # No Possible Actions, Exiting\n",
    "\n",
    "                for action in possible_actions:\n",
    "                    next_state = self.game.get_next_state(current_state, action)\n",
    "                    next_state_tuple = tuple(map(tuple, next_state.puzzle))\n",
    "                    if next_state_tuple not in visited_states:\n",
    "                        queue.append(next_state)\n",
    "\n",
    "            level += 1\n",
    "\n",
    "        return # No Solution Found\n",
    "\n",
    "    def solve_Astar_manhattan(self, initial_state):\n",
    "        visited = set()\n",
    "        steps_data = []\n",
    "        priority_queue = [(0, initial_state)]\n",
    "\n",
    "        # Aggiungi il passo iniziale (stato iniziale)\n",
    "        steps_data.insert(0, {\n",
    "            \"manhattan_distance\": Heuristics.manhattan_distance(initial_state),\n",
    "            \"state\": initial_state.puzzle,\n",
    "            \"action\": None,\n",
    "            \"parent\": None,\n",
    "            \"moves\": 0\n",
    "        })\n",
    "\n",
    "        while priority_queue:\n",
    "            current_cost, current_state = heapq.heappop(priority_queue)\n",
    "\n",
    "            visited.add(tuple(map(tuple, current_state.puzzle)))\n",
    "\n",
    "            if self.game.is_goal(current_state):\n",
    "                return steps_data  # Aggiungi i dati solo quando il goal è raggiunto\n",
    "\n",
    "            for action in self.game.get_possible_actions(current_state):\n",
    "                next_state = self.game.get_next_state(current_state, action)\n",
    "                next_state_tuple = tuple(map(tuple, next_state.puzzle))\n",
    "\n",
    "                if next_state_tuple not in visited:\n",
    "                    next_manhattan = Heuristics.manhattan_distance(next_state)\n",
    "                    next_cost = current_state.cost + 1\n",
    "\n",
    "                    heapq.heappush(priority_queue, (next_cost + next_manhattan, next_state))\n",
    "                    # Aggiungi i dati qui per ogni stato esplorato\n",
    "                    steps_data.append({\n",
    "                        \"manhattan_distance\": next_manhattan,\n",
    "                        \"state\": next_state.puzzle,\n",
    "                        \"action\": action,\n",
    "                        \"parent\": current_state.puzzle,\n",
    "                        \"moves\": next_cost\n",
    "                    })\n",
    "\n",
    "        return None\n",
    "\n",
    "    def solve_Astar_misplaced(self, initial_state):\n",
    "        priority_queue = [(Heuristics.misplaced_tiles(initial_state), initial_state)]\n",
    "        visited_states = set()\n",
    "        steps_data = []\n",
    "\n",
    "        while priority_queue:\n",
    "            _, current_state = heapq.heappop(priority_queue)\n",
    "            current_state_tuple = tuple(map(tuple, current_state.puzzle))\n",
    "\n",
    "            if current_state_tuple in visited_states:\n",
    "                continue  # Stato già visitato, salta questo stato\n",
    "\n",
    "            visited_states.add(current_state_tuple)\n",
    "\n",
    "            if self.game.is_goal(current_state):\n",
    "                return steps_data  # Aggiungi i dati solo quando il goal è raggiunto\n",
    "\n",
    "            count = Heuristics.misplaced_tiles(current_state)\n",
    "\n",
    "            if not steps_data or count < steps_data[-1][\"misplaced_tiles\"]:\n",
    "                steps_data.append({\n",
    "                    \"misplaced_tiles\": count,\n",
    "                    \"state\": current_state.puzzle,\n",
    "                    \"action\": None,\n",
    "                    \"parent\": current_state.parent.puzzle if current_state.parent else None\n",
    "                })\n",
    "\n",
    "            possible_actions = self.game.get_possible_actions(current_state)\n",
    "            if not possible_actions:\n",
    "                return None  # Nessuna azione possibile, termina la ricerca\n",
    "\n",
    "            for action in possible_actions:\n",
    "                next_state = self.game.get_next_state(current_state, action)\n",
    "                next_state_tuple = tuple(map(tuple, next_state.puzzle))\n",
    "\n",
    "                cost = Heuristics.misplaced_tiles(next_state)\n",
    "                cost += next_state.cost\n",
    "\n",
    "                if next_state_tuple not in visited_states:\n",
    "                    heapq.heappush(priority_queue, (cost, next_state))\n",
    "                    # Aggiungi i dati qui per ogni stato esplorato\n",
    "                    steps_data.append({\n",
    "                        \"misplaced_tiles\": cost,\n",
    "                        \"state\": next_state.puzzle,\n",
    "                        \"action\": action,\n",
    "                        \"parent\": current_state.puzzle\n",
    "                    })\n",
    "\n",
    "        # Aggiungi il passo iniziale (stato iniziale)\n",
    "        steps_data.insert(0, {\n",
    "            \"misplaced_tiles\": Heuristics.misplaced_tiles(initial_state),\n",
    "            \"state\": initial_state.puzzle,\n",
    "            \"action\": None,\n",
    "            \"parent\": None\n",
    "        })\n",
    "\n",
    "        return None"
   ],
   "metadata": {
    "collapsed": false,
    "pycharm": {
     "name": "#%%\n"
    }
   }
  },
  {
   "cell_type": "markdown",
   "source": [
    "# Main execution of 15-Puzzle game\n",
    "\n",
    "This Python code provides a solution for the 15-puzzle using the A* search algorithm and BFS (Breadth-First Search). It also includes functions for generating a random puzzle configuration and displaying the results.\n",
    "In particular we have:\n",
    "\n",
    "- `randomise_4x4_matrix` function creates a random 15-puzzle configuration. It initially generates a list of numbers from 0 to 15, shuffles them randomly, and organizes them into a 4x4 matrix.\n",
    "\n",
    "- `solve_puzzle` function solves the puzzle using the chosen algorithm (`search`) and an initial configuration (`initial_state`). Here's how it works:\n",
    "\n",
    "    - It initializes a `Game` object to manage the game.\n",
    "    - It initializes an `Agent` object to perform the solving.\n",
    "    - Depending on the chosen search algorithm (`search`), it calls the corresponding method to solve the puzzle.\n",
    "    - It returns the solution, which is a sequence of states as a list.\n",
    "\n",
    "- `print_matrix` function displays a state matrix. It can be used to print the initial configuration or any other state.\n",
    "\n",
    "- `reconstruct_path` function rebuilds the path from the found solution. It takes the solution as input and starts with the final state. Then, it traces back to the initial state by following parent links in the solution data.\n",
    "\n",
    "- `initial_state` variable represents the initial puzzle configuration. You can choose to initialize it randomly using `randomise_4x4_matrix` or manually specify a configuration as a matrix.\n",
    "\n",
    "### Puzzle Resolution\n",
    "\n",
    "The code uses three algorithms to solve the puzzle:\n",
    "- BFS (Breadth-First Search)\n",
    "- A* with the Manhattan distance heuristic\n",
    "- A* with the misplaced tiles heuristic\n",
    "\n",
    "For each algorithm, the `solve_puzzle` function is called with the desired algorithm and the initial configuration. The solution, if found, is stored and printed, along with the number of nodes explored by the algorithm.\n",
    "\n",
    "### Solution Verification\n",
    "\n",
    "If a solution is found by all three algorithms (BFS, A* with Manhattan distance, A* with misplaced tiles), the results are printed. The number of nodes explored by each algorithm and the initial puzzle configuration are displayed.\n",
    "\n",
    "Remember that a solution might not be found if the initial configuration has an odd number of inversions.\n"
   ],
   "metadata": {
    "collapsed": false,
    "pycharm": {
     "name": "#%% md\n"
    }
   }
  },
  {
   "cell_type": "code",
   "execution_count": 35,
   "outputs": [
    {
     "name": "stdout",
     "output_type": "stream",
     "text": [
      "Initial State\n",
      "\n",
      "1 2 3 4\n",
      "5 6 7 8\n",
      "9 10 12 15\n",
      "13 14 11 0\n",
      "\n",
      "Number of nodes explored with Breadth-First Search (BFS)             : 41\n",
      "Number of nodes explored with A* with Manhattan Distance heuristic   : 9\n",
      "Number of nodes explored with A* with Misplaced Tiles heuristic      : 12\n",
      "\n"
     ]
    }
   ],
   "source": [
    "def randomise_4x4_matrix():\n",
    "    values = list(range(16))\n",
    "    random.shuffle(values)\n",
    "    matrix = [values[i:i + 4] for i in range(0, 16, 4)]\n",
    "    return matrix\n",
    "\n",
    "def solve_puzzle(search, initial_state):\n",
    "    game = Game()\n",
    "    agent = Agent(game)\n",
    "    if search == \"astar_manhattan\":\n",
    "        solution = agent.solve_Astar_manhattan(State(initial_state))\n",
    "    elif search == \"astar_misplaced\":\n",
    "        solution = agent.solve_Astar_misplaced(State(initial_state))\n",
    "    elif search == \"BFS\":\n",
    "        solution = agent.solve_BFS(State(initial_state))\n",
    "    return solution\n",
    "\n",
    "def print_matrix(matrix, init=1):\n",
    "    for state in matrix[init:]:\n",
    "        if init == 0:\n",
    "            print(\" \".join(map(str, state)))\n",
    "        else:\n",
    "            for row in state:\n",
    "                print(\" \".join(map(str, row)))\n",
    "            print()\n",
    "\n",
    "def reconstruct_path(solution):\n",
    "    path = [solution[-1]['state']]  # Inizia con lo stato finale\n",
    "    parent_state = solution[-1]['parent']\n",
    "\n",
    "    while parent_state:\n",
    "        if parent_state == solution[0]['state']:\n",
    "            path.insert(0, parent_state)  # Inserisci lo stato iniziale all'inizio del percorso\n",
    "            break\n",
    "        parent_index = None\n",
    "        for i, step in enumerate(solution):\n",
    "            if step['state'] == parent_state:\n",
    "                parent_index = i\n",
    "                break\n",
    "\n",
    "        if parent_index is not None:\n",
    "            path.insert(0, parent_state)  # Inserisce il padre all'inizio del percorso\n",
    "            parent_state = solution[parent_index]['parent']\n",
    "        else:\n",
    "            break  # Uscire se non viene trovato il genitore\n",
    "\n",
    "    return path\n",
    "\n",
    "successful = 0\n",
    "goal_state = [[1, 2, 3, 4], [5, 6, 7, 8], [9, 10, 11, 12], [13, 14, 15, 0]]\n",
    "\n",
    "#initial_state = randomise_4x4_matrix() #\n",
    "initial_state = [[1, 2, 3, 4],\n",
    "                     [5, 6, 7, 8],\n",
    "                     [9, 10, 12, 15],\n",
    "                     [13, 14, 11, 0]]\n",
    "\n",
    "solution_bfs = solve_puzzle(\"BFS\", initial_state)\n",
    "solution_astar_manhattan = solve_puzzle(\"astar_manhattan\", initial_state)\n",
    "solution_astar_misplaced = solve_puzzle(\"astar_misplaced\", initial_state)\n",
    "\n",
    "last_manhattan = []\n",
    "last_misplaced = []\n",
    "\n",
    "if (\n",
    "    solution_bfs is not None and len(solution_bfs) > 0 and\n",
    "    solution_astar_manhattan is not None and\n",
    "    solution_astar_misplaced is not None\n",
    "):\n",
    "    print(\"Initial State\\n\")\n",
    "    print_matrix(initial_state, init=0)\n",
    "    print()\n",
    "    print(\"Number of nodes explored with Breadth-First Search (BFS)             :\", sum(item[1] for item in solution_bfs))\n",
    "    print(\"Number of nodes explored with A* with Manhattan Distance heuristic   :\", len(solution_astar_manhattan) - 1)\n",
    "    print(\"Number of nodes explored with A* with Misplaced Tiles heuristic      :\", len(solution_astar_misplaced) - 1)\n",
    "    print()\n",
    "\n",
    "    last_manhattan = [solution_astar_manhattan, len(solution_astar_manhattan) - 1]\n",
    "    last_misplaced = [solution_astar_misplaced, len(solution_astar_misplaced) - 1]\n",
    "\n",
    "    successful += 1\n",
    "else:\n",
    "    print(\"No solution found.\")"
   ],
   "metadata": {
    "collapsed": false,
    "pycharm": {
     "name": "#%%\n"
    }
   }
  },
  {
   "cell_type": "markdown",
   "source": [
    "### For each level of the BFS search tree, the number of explored nodes is as follows:"
   ],
   "metadata": {
    "collapsed": false,
    "pycharm": {
     "name": "#%% md\n"
    }
   }
  },
  {
   "cell_type": "code",
   "execution_count": 56,
   "outputs": [
    {
     "name": "stdout",
     "output_type": "stream",
     "text": [
      "1 1\n",
      "2 2\n",
      "3 4\n",
      "4 10\n",
      "5 24\n"
     ]
    }
   ],
   "source": [
    "for level, nodes in solution_bfs:\n",
    "    print(level, nodes)"
   ],
   "metadata": {
    "collapsed": false,
    "pycharm": {
     "name": "#%%\n"
    }
   }
  },
  {
   "cell_type": "markdown",
   "source": [
    "### Reconstructs the optimal path from the starting state to the goal state for both the Manhattan distance and misplaced tiles heuristics. It then compares the lengths of these paths and checks if they are the same."
   ],
   "metadata": {
    "collapsed": false,
    "pycharm": {
     "name": "#%% md\n"
    }
   }
  },
  {
   "cell_type": "code",
   "execution_count": 51,
   "outputs": [
    {
     "name": "stdout",
     "output_type": "stream",
     "text": [
      "Minimal number of moves for reaching goal (manhattan, misplaced)\n",
      "5, 5\n",
      "\n",
      "Are minimal for both heuristics?\n",
      "True\n"
     ]
    }
   ],
   "source": [
    "solution_astar_manhattan_reconstructed = reconstruct_path(solution_astar_manhattan)\n",
    "solution_astar_misplaced_reconstructed = reconstruct_path(solution_astar_misplaced)\n",
    "\n",
    "print(\"Minimal number of moves for reaching goal (manhattan, misplaced)\")\n",
    "print(str(len(solution_astar_manhattan_reconstructed)) + \", \" + str(len(solution_astar_misplaced_reconstructed)))\n",
    "print()\n",
    "print(\"Are minimal for both heuristics?\")\n",
    "print(solution_astar_manhattan_reconstructed == solution_astar_manhattan_reconstructed)"
   ],
   "metadata": {
    "collapsed": false,
    "pycharm": {
     "name": "#%%\n"
    }
   }
  },
  {
   "cell_type": "markdown",
   "source": [
    "### Printing each state evaluated by the Manhattan Heuristic during the search process"
   ],
   "metadata": {
    "collapsed": false,
    "pycharm": {
     "name": "#%% md\n"
    }
   }
  },
  {
   "cell_type": "code",
   "execution_count": 59,
   "outputs": [
    {
     "name": "stdout",
     "output_type": "stream",
     "text": [
      "{'misplaced_tiles': 3, 'state': [[1, 2, 3, 4], [5, 6, 7, 8], [9, 10, 12, 15], [13, 14, 11, 0]], 'action': None, 'parent': None}\n",
      "{'misplaced_tiles': 5, 'state': [[1, 2, 3, 4], [5, 6, 7, 8], [9, 10, 12, 0], [13, 14, 11, 15]], 'action': 'down', 'parent': [[1, 2, 3, 4], [5, 6, 7, 8], [9, 10, 12, 15], [13, 14, 11, 0]]}\n",
      "{'misplaced_tiles': 5, 'state': [[1, 2, 3, 4], [5, 6, 7, 8], [9, 10, 12, 15], [13, 14, 0, 11]], 'action': 'right', 'parent': [[1, 2, 3, 4], [5, 6, 7, 8], [9, 10, 12, 15], [13, 14, 11, 0]]}\n",
      "{'misplaced_tiles': 4, 'state': [[1, 2, 3, 4], [5, 6, 7, 8], [9, 10, 12, 0], [13, 14, 11, 15]], 'action': None, 'parent': [[1, 2, 3, 4], [5, 6, 7, 8], [9, 10, 12, 15], [13, 14, 11, 0]]}\n",
      "{'misplaced_tiles': 7, 'state': [[1, 2, 3, 4], [5, 6, 7, 0], [9, 10, 12, 8], [13, 14, 11, 15]], 'action': 'down', 'parent': [[1, 2, 3, 4], [5, 6, 7, 8], [9, 10, 12, 0], [13, 14, 11, 15]]}\n",
      "{'misplaced_tiles': 5, 'state': [[1, 2, 3, 4], [5, 6, 7, 8], [9, 10, 0, 12], [13, 14, 11, 15]], 'action': 'right', 'parent': [[1, 2, 3, 4], [5, 6, 7, 8], [9, 10, 12, 0], [13, 14, 11, 15]]}\n",
      "{'misplaced_tiles': 3, 'state': [[1, 2, 3, 4], [5, 6, 7, 8], [9, 10, 0, 12], [13, 14, 11, 15]], 'action': None, 'parent': [[1, 2, 3, 4], [5, 6, 7, 8], [9, 10, 12, 0], [13, 14, 11, 15]]}\n",
      "{'misplaced_tiles': 7, 'state': [[1, 2, 3, 4], [5, 6, 0, 8], [9, 10, 7, 12], [13, 14, 11, 15]], 'action': 'down', 'parent': [[1, 2, 3, 4], [5, 6, 7, 8], [9, 10, 0, 12], [13, 14, 11, 15]]}\n",
      "{'misplaced_tiles': 5, 'state': [[1, 2, 3, 4], [5, 6, 7, 8], [9, 10, 11, 12], [13, 14, 0, 15]], 'action': 'up', 'parent': [[1, 2, 3, 4], [5, 6, 7, 8], [9, 10, 0, 12], [13, 14, 11, 15]]}\n",
      "{'misplaced_tiles': 7, 'state': [[1, 2, 3, 4], [5, 6, 7, 8], [9, 0, 10, 12], [13, 14, 11, 15]], 'action': 'right', 'parent': [[1, 2, 3, 4], [5, 6, 7, 8], [9, 10, 0, 12], [13, 14, 11, 15]]}\n",
      "{'misplaced_tiles': 2, 'state': [[1, 2, 3, 4], [5, 6, 7, 8], [9, 10, 11, 12], [13, 14, 0, 15]], 'action': None, 'parent': [[1, 2, 3, 4], [5, 6, 7, 8], [9, 10, 0, 12], [13, 14, 11, 15]]}\n",
      "{'misplaced_tiles': 7, 'state': [[1, 2, 3, 4], [5, 6, 7, 8], [9, 10, 11, 12], [13, 0, 14, 15]], 'action': 'right', 'parent': [[1, 2, 3, 4], [5, 6, 7, 8], [9, 10, 11, 12], [13, 14, 0, 15]]}\n",
      "{'misplaced_tiles': 4, 'state': [[1, 2, 3, 4], [5, 6, 7, 8], [9, 10, 11, 12], [13, 14, 15, 0]], 'action': 'left', 'parent': [[1, 2, 3, 4], [5, 6, 7, 8], [9, 10, 11, 12], [13, 14, 0, 15]]}\n"
     ]
    }
   ],
   "source": [
    "for index in solution_astar_misplaced:\n",
    "    print(index)"
   ],
   "metadata": {
    "collapsed": false,
    "pycharm": {
     "name": "#%%\n"
    }
   }
  },
  {
   "cell_type": "markdown",
   "source": [
    "### Printing each state evaluated by the Misplaced Tiles Heuristic during the search process"
   ],
   "metadata": {
    "collapsed": false,
    "pycharm": {
     "name": "#%% md\n"
    }
   }
  },
  {
   "cell_type": "code",
   "execution_count": 61,
   "outputs": [
    {
     "name": "stdout",
     "output_type": "stream",
     "text": [
      "{'manhattan_distance': 4, 'state': [[1, 2, 3, 4], [5, 6, 7, 8], [9, 10, 12, 15], [13, 14, 11, 0]], 'action': None, 'parent': None, 'moves': 0}\n",
      "{'manhattan_distance': 3, 'state': [[1, 2, 3, 4], [5, 6, 7, 8], [9, 10, 12, 0], [13, 14, 11, 15]], 'action': 'down', 'parent': [[1, 2, 3, 4], [5, 6, 7, 8], [9, 10, 12, 15], [13, 14, 11, 0]], 'moves': 1}\n",
      "{'manhattan_distance': 5, 'state': [[1, 2, 3, 4], [5, 6, 7, 8], [9, 10, 12, 15], [13, 14, 0, 11]], 'action': 'right', 'parent': [[1, 2, 3, 4], [5, 6, 7, 8], [9, 10, 12, 15], [13, 14, 11, 0]], 'moves': 1}\n",
      "{'manhattan_distance': 4, 'state': [[1, 2, 3, 4], [5, 6, 7, 0], [9, 10, 12, 8], [13, 14, 11, 15]], 'action': 'down', 'parent': [[1, 2, 3, 4], [5, 6, 7, 8], [9, 10, 12, 0], [13, 14, 11, 15]], 'moves': 2}\n",
      "{'manhattan_distance': 2, 'state': [[1, 2, 3, 4], [5, 6, 7, 8], [9, 10, 0, 12], [13, 14, 11, 15]], 'action': 'right', 'parent': [[1, 2, 3, 4], [5, 6, 7, 8], [9, 10, 12, 0], [13, 14, 11, 15]], 'moves': 2}\n",
      "{'manhattan_distance': 3, 'state': [[1, 2, 3, 4], [5, 6, 0, 8], [9, 10, 7, 12], [13, 14, 11, 15]], 'action': 'down', 'parent': [[1, 2, 3, 4], [5, 6, 7, 8], [9, 10, 0, 12], [13, 14, 11, 15]], 'moves': 3}\n",
      "{'manhattan_distance': 1, 'state': [[1, 2, 3, 4], [5, 6, 7, 8], [9, 10, 11, 12], [13, 14, 0, 15]], 'action': 'up', 'parent': [[1, 2, 3, 4], [5, 6, 7, 8], [9, 10, 0, 12], [13, 14, 11, 15]], 'moves': 3}\n",
      "{'manhattan_distance': 3, 'state': [[1, 2, 3, 4], [5, 6, 7, 8], [9, 0, 10, 12], [13, 14, 11, 15]], 'action': 'right', 'parent': [[1, 2, 3, 4], [5, 6, 7, 8], [9, 10, 0, 12], [13, 14, 11, 15]], 'moves': 3}\n",
      "{'manhattan_distance': 2, 'state': [[1, 2, 3, 4], [5, 6, 7, 8], [9, 10, 11, 12], [13, 0, 14, 15]], 'action': 'right', 'parent': [[1, 2, 3, 4], [5, 6, 7, 8], [9, 10, 11, 12], [13, 14, 0, 15]], 'moves': 4}\n",
      "{'manhattan_distance': 0, 'state': [[1, 2, 3, 4], [5, 6, 7, 8], [9, 10, 11, 12], [13, 14, 15, 0]], 'action': 'left', 'parent': [[1, 2, 3, 4], [5, 6, 7, 8], [9, 10, 11, 12], [13, 14, 0, 15]], 'moves': 4}\n"
     ]
    }
   ],
   "source": [
    "for index in solution_astar_manhattan:\n",
    "    print(index)"
   ],
   "metadata": {
    "collapsed": false,
    "pycharm": {
     "name": "#%%\n"
    }
   }
  },
  {
   "cell_type": "markdown",
   "source": [
    "### Reconstructed Paths for A* Search\n",
    "\n",
    "Here, we print the reconstructed paths for two A* searches, each using a different heuristic:\n",
    "- First, we display the reconstructed path for A* using the Manhattan distance heuristic.\n",
    "- Then, we show the reconstructed path for A* using the misplaced tiles heuristic.\n",
    "\n",
    "These paths represent the sequence of states leading to the goal state.\n"
   ],
   "metadata": {
    "collapsed": false,
    "pycharm": {
     "name": "#%% md\n"
    }
   }
  },
  {
   "cell_type": "code",
   "execution_count": 62,
   "outputs": [
    {
     "name": "stdout",
     "output_type": "stream",
     "text": [
      "[[1, 2, 3, 4], [5, 6, 7, 8], [9, 10, 12, 15], [13, 14, 11, 0]]\n",
      "[[1, 2, 3, 4], [5, 6, 7, 8], [9, 10, 12, 0], [13, 14, 11, 15]]\n",
      "[[1, 2, 3, 4], [5, 6, 7, 8], [9, 10, 0, 12], [13, 14, 11, 15]]\n",
      "[[1, 2, 3, 4], [5, 6, 7, 8], [9, 10, 11, 12], [13, 14, 0, 15]]\n",
      "[[1, 2, 3, 4], [5, 6, 7, 8], [9, 10, 11, 12], [13, 14, 15, 0]]\n",
      "\n",
      "[[1, 2, 3, 4], [5, 6, 7, 8], [9, 10, 12, 15], [13, 14, 11, 0]]\n",
      "[[1, 2, 3, 4], [5, 6, 7, 8], [9, 10, 12, 0], [13, 14, 11, 15]]\n",
      "[[1, 2, 3, 4], [5, 6, 7, 8], [9, 10, 0, 12], [13, 14, 11, 15]]\n",
      "[[1, 2, 3, 4], [5, 6, 7, 8], [9, 10, 11, 12], [13, 14, 0, 15]]\n",
      "[[1, 2, 3, 4], [5, 6, 7, 8], [9, 10, 11, 12], [13, 14, 15, 0]]\n"
     ]
    }
   ],
   "source": [
    "for index in solution_astar_manhattan_reconstructed:\n",
    "    print(index)\n",
    "\n",
    "print()\n",
    "\n",
    "for index in solution_astar_misplaced_reconstructed:\n",
    "    print(index)"
   ],
   "metadata": {
    "collapsed": false,
    "pycharm": {
     "name": "#%%\n"
    }
   }
  }
 ],
 "metadata": {
  "kernelspec": {
   "display_name": "Python 3",
   "language": "python",
   "name": "python3"
  },
  "language_info": {
   "codemirror_mode": {
    "name": "ipython",
    "version": 2
   },
   "file_extension": ".py",
   "mimetype": "text/x-python",
   "name": "python",
   "nbconvert_exporter": "python",
   "pygments_lexer": "ipython2",
   "version": "2.7.6"
  }
 },
 "nbformat": 4,
 "nbformat_minor": 0
}